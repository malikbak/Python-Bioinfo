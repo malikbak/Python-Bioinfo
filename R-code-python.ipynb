{
 "cells": [
  {
   "cell_type": "code",
   "execution_count": 1,
   "id": "4aeb2acb",
   "metadata": {},
   "outputs": [
    {
     "name": "stdout",
     "output_type": "stream",
     "text": [
      "                title  r_psp_MMGBSA_dG_Bind  r_psp_MMGBSA_dG_Bind_Coulomb  \\\n",
      "1  ligprep_1959.sdf:1             -5.580089                     40.668693   \n",
      "2  ligprep_1959.sdf:1            -23.158718                     11.203829   \n",
      "\n",
      "   r_psp_MMGBSA_dG_Bind_Covalent  r_psp_MMGBSA_dG_Bind_Hbond  \\\n",
      "1                       0.057434                   -0.574593   \n",
      "2                      -0.605846                   -1.039413   \n",
      "\n",
      "   r_psp_MMGBSA_dG_Bind_Lipo  r_psp_MMGBSA_dG_Bind_Packing  \\\n",
      "1                  -7.364421                     -0.000023   \n",
      "2                  -5.103036                     -1.324686   \n",
      "\n",
      "   r_psp_MMGBSA_dG_Bind_SelfCont  r_psp_MMGBSA_dG_Bind_Solv_GB  \\\n",
      "1                            0.0                    -16.309228   \n",
      "2                            0.0                    -12.789621   \n",
      "\n",
      "   r_psp_MMGBSA_dG_Bind_Solv_SA  ...  r_psp_Rec_Strain_Hbond  \\\n",
      "1                   -2147483648  ...                     0.0   \n",
      "2                   -2147483648  ...                     0.0   \n",
      "\n",
      "   r_psp_Rec_Strain_Lipo  r_psp_Rec_Strain_Packing  r_psp_Rec_Strain_SelfCont  \\\n",
      "1                    0.0                       0.0                        0.0   \n",
      "2                    0.0                       0.0                        0.0   \n",
      "\n",
      "   r_psp_Rec_Strain_Solv_GB  r_psp_Rec_Strain_Solv_SA  r_psp_Rec_Strain_vdW  \\\n",
      "1                       0.0               -2147483648                   0.0   \n",
      "2                       0.0               -2147483648                   0.0   \n",
      "\n",
      "   r_psp_Prime_MMGBSA_ligand_efficiency  \\\n",
      "1                             -0.069751   \n",
      "2                             -0.289484   \n",
      "\n",
      "   r_psp_Prime_MMGBSA_ligand_efficiency_sa  \\\n",
      "1                                -0.104627   \n",
      "2                                -0.434226   \n",
      "\n",
      "   r_psp_Prime_MMGBSA_ligand_efficiency_ln  \n",
      "1                                -1.036801  \n",
      "2                                -4.302973  \n",
      "\n",
      "[2 rows x 84 columns]\n"
     ]
    }
   ],
   "source": [
    "import pandas as pd\n",
    "import os\n",
    "import rpy2\n",
    "from rpy2.robjects import pandas2ri\n",
    "import rpy2.robjects as robjects\n",
    "from rpy2.robjects.packages import importr\n",
    "pandas2ri.activate()\n",
    "\n",
    "utils = importr('utils')\n",
    "ggplot = importr('ggplot2')\n",
    "robjects.r('''\n",
    "library(utils)\n",
    "count_data <- read.csv(\"C:/Users/LA/Downloads/prime_mmgbsa_1959-out.csv\", header = T)\n",
    "''')\n",
    "count_data_a = pandas2ri.rpy2py(robjects.r['count_data'])\n",
    "print(count_data_a)"
   ]
  }
 ],
 "metadata": {
  "kernelspec": {
   "display_name": "Python 3 (ipykernel)",
   "language": "python",
   "name": "python3"
  },
  "language_info": {
   "codemirror_mode": {
    "name": "ipython",
    "version": 3
   },
   "file_extension": ".py",
   "mimetype": "text/x-python",
   "name": "python",
   "nbconvert_exporter": "python",
   "pygments_lexer": "ipython3",
   "version": "3.9.6"
  }
 },
 "nbformat": 4,
 "nbformat_minor": 5
}
