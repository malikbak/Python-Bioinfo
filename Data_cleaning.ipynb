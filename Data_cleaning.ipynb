{
 "cells": [
  {
   "cell_type": "markdown",
   "id": "bffecacc",
   "metadata": {},
   "source": [
    "## Data Cleaning Pipeline for Object-Type Columns\n",
    "This Python code demonstrates a data preprocessing pipeline for object-type columns in a Pandas DataFrame. It covers techniques to handle missing values using mode imputation, detect and manage outliers using z-score, standardize data format by converting strings to uppercase, and drop rows/columns with excessive missingness."
   ]
  },
  {
   "cell_type": "code",
   "execution_count": 1,
   "id": "34cd05bc",
   "metadata": {},
   "outputs": [],
   "source": [
    "import pandas as pd\n",
    "import numpy as np"
   ]
  },
  {
   "cell_type": "code",
   "execution_count": 15,
   "id": "2ac10763",
   "metadata": {},
   "outputs": [
    {
     "name": "stdout",
     "output_type": "stream",
     "text": [
      "Customer_ID                      0\n",
      "Age                              0\n",
      "Gender                           0\n",
      "Income_Level                     0\n",
      "Address                          0\n",
      "Transaction_ID                   0\n",
      "Purchase_Date                    0\n",
      "Product_ID                       0\n",
      "Product_Category                 0\n",
      "Brand                            0\n",
      "Purchase_Amount                  0\n",
      "Average_Spending_Per_Purchase    0\n",
      "Purchase_Frequency_Per_Month     0\n",
      "Brand_Affinity_Score             0\n",
      "Product_Category_Preferences     0\n",
      "Month                            0\n",
      "Year                             0\n",
      "Season                           0\n",
      "dtype: int64\n"
     ]
    }
   ],
   "source": [
    "file = pd.read_json(\"electronics.json\")\n",
    "df = file.apply(lambda x: x.str.strip()).replace('', 0)\n",
    "print(df.isna().sum())"
   ]
  },
  {
   "cell_type": "code",
   "execution_count": 16,
   "id": "71437f09",
   "metadata": {},
   "outputs": [
    {
     "name": "stdout",
     "output_type": "stream",
     "text": [
      "                            Customer_ID Age  Gender Income_Level  \\\n",
      "0  B81EE6C9-2AE4-48A7-B283-220EAA244F43  40  FEMALE       MEDIUM   \n",
      "3  878DCCBA-893A-48F9-8D34-6ED394FA3C9C  38  FEMALE       MEDIUM   \n",
      "4  0AF0BD81-73CC-494E-AA5E-75C6D0B6D743  68   OTHER       MEDIUM   \n",
      "5  5A4AC4CE-1E09-4ECB-805C-FB676F101385  26   OTHER         HIGH   \n",
      "7  80A5D367-B3DC-4C18-8A93-584E7C5E7E29  23  FEMALE         HIGH   \n",
      "\n",
      "                                             Address  \\\n",
      "0  43548 MURRAY ISLANDS SUITE 974\\nAMYBERG, CT 13457   \n",
      "3  02998 HALL MEADOWS SUITE 809\\nNORTH ROBERTVILL...   \n",
      "4  21411 TIMOTHY FORD APT. 320\\nDAVISBOROUGH, AR ...   \n",
      "5  843 JOHN KNOLL SUITE 876\\nRODRIGUEZMOUTH, MO 3...   \n",
      "7  203 TIFFANY HILL SUITE 971\\nPORT JOSETOWN, VI ...   \n",
      "\n",
      "                         Transaction_ID Purchase_Date  \\\n",
      "0  C6A6C712-E36B-406A-BFDE-F53BDCF4744F    2022-04-26   \n",
      "3  3CFAFA02-6B34-4D77-9E05-D223DFAB64E8    2022-12-03   \n",
      "4  0D8DC27A-0C8F-4A82-B57E-8BF54CEE9759    2020-06-08   \n",
      "5  5B0D927B-A342-4DF1-8846-A1ACC62E2842    2022-12-03   \n",
      "7  E88C395B-2E4E-4D97-BBDB-0CC321168753    2022-09-30   \n",
      "\n",
      "                             Product_ID Product_Category    Brand  \\\n",
      "0  D2F767D6-B01A-41A2-87F7-EC1D1186F50E         CLOTHING  BRAND_C   \n",
      "3  D518569B-FF79-494B-B2B6-7E2AF39DB86A         CLOTHING  BRAND_C   \n",
      "4  B6DEAC9D-2B7E-4A51-8273-A6534910B3BC            BOOKS  BRAND_B   \n",
      "5  03F82332-801C-45E2-84BF-AF10A8F60248            BOOKS  BRAND_A   \n",
      "7  F2F4088C-8822-4532-8B4D-AE4ED9FF2E1C         CLOTHING  BRAND_A   \n",
      "\n",
      "  Purchase_Amount Average_Spending_Per_Purchase Purchase_Frequency_Per_Month  \\\n",
      "0             193                            59                            2   \n",
      "3             262                            97                            3   \n",
      "4             429                            85                            7   \n",
      "5              57                            21                            2   \n",
      "7             390                            42                            9   \n",
      "\n",
      "  Brand_Affinity_Score Product_Category_Preferences Month  Year  Season  \n",
      "0                    2                          LOW    01  2010  WINTER  \n",
      "3                    4                          LOW    09  2012    FALL  \n",
      "4                    2                         HIGH    01  2010  SUMMER  \n",
      "5                    6                         HIGH    08  1989  SPRING  \n",
      "7                    2                          LOW    04  1976  WINTER  \n"
     ]
    }
   ],
   "source": [
    "import pandas as pd\n",
    "import numpy as np\n",
    "from scipy.stats import zscore\n",
    "\n",
    "# Assuming 'df' is your DataFrame\n",
    "\n",
    "# Handling Missing Values\n",
    "for col in df.select_dtypes(include='object').columns:\n",
    "    if df[col].isnull().sum() > 0:\n",
    "        # Fill missing values with mean or median\n",
    "        if df[col].dtype == 'object':\n",
    "            df[col].fillna(df[col].mode()[0], inplace=True)  # Filling with mode for object-type columns\n",
    "\n",
    "# Analyzing Outliers\n",
    "for col in df.select_dtypes(include='object').columns:\n",
    "    if df[col].dtype != 'object':\n",
    "        z_scores = zscore(df[col])\n",
    "        outliers = (np.abs(z_scores) > 3)  # Change threshold as needed\n",
    "        df.loc[outliers, col] = np.nan  # Replace outliers with NaN\n",
    "\n",
    "# Handling inconsistencies in data format and encoding - example for uppercase\n",
    "for col in df.select_dtypes(include='object').columns:\n",
    "    if df[col].dtype == 'object':\n",
    "        df[col] = df[col].str.upper()  # Convert to uppercase\n",
    "\n",
    "# Dropping rows or columns with excessive missingness\n",
    "threshold = 0.3  # Example threshold for missing values\n",
    "df.dropna(axis=1, thresh=len(df) * threshold, inplace=True)  # Drop columns with more than 30% missing values\n",
    "\n",
    "# Dropping rows with missing values\n",
    "df.dropna(axis=0, inplace=True)  # Drop rows with any missing values\n",
    "\n",
    "# Displaying the cleaned DataFrame\n",
    "print(df.head())\n"
   ]
  },
  {
   "cell_type": "code",
   "execution_count": 19,
   "id": "a5d9ba67",
   "metadata": {},
   "outputs": [
    {
     "name": "stdout",
     "output_type": "stream",
     "text": [
      "                            Customer_ID Age  Gender Income_Level  \\\n",
      "0  B81EE6C9-2AE4-48A7-B283-220EAA244F43  40  FEMALE       MEDIUM   \n",
      "3  878DCCBA-893A-48F9-8D34-6ED394FA3C9C  38  FEMALE       MEDIUM   \n",
      "4  0AF0BD81-73CC-494E-AA5E-75C6D0B6D743  68   OTHER       MEDIUM   \n",
      "5  5A4AC4CE-1E09-4ECB-805C-FB676F101385  26   OTHER         HIGH   \n",
      "7  80A5D367-B3DC-4C18-8A93-584E7C5E7E29  23  FEMALE         HIGH   \n",
      "\n",
      "                                             Address  \\\n",
      "0  43548 MURRAY ISLANDS SUITE 974\\nAMYBERG, CT 13457   \n",
      "3  02998 HALL MEADOWS SUITE 809\\nNORTH ROBERTVILL...   \n",
      "4  21411 TIMOTHY FORD APT. 320\\nDAVISBOROUGH, AR ...   \n",
      "5  843 JOHN KNOLL SUITE 876\\nRODRIGUEZMOUTH, MO 3...   \n",
      "7  203 TIFFANY HILL SUITE 971\\nPORT JOSETOWN, VI ...   \n",
      "\n",
      "                         Transaction_ID Purchase_Date  \\\n",
      "0  C6A6C712-E36B-406A-BFDE-F53BDCF4744F    2022-04-26   \n",
      "3  3CFAFA02-6B34-4D77-9E05-D223DFAB64E8    2022-12-03   \n",
      "4  0D8DC27A-0C8F-4A82-B57E-8BF54CEE9759    2020-06-08   \n",
      "5  5B0D927B-A342-4DF1-8846-A1ACC62E2842    2022-12-03   \n",
      "7  E88C395B-2E4E-4D97-BBDB-0CC321168753    2022-09-30   \n",
      "\n",
      "                             Product_ID Product_Category    Brand  \\\n",
      "0  D2F767D6-B01A-41A2-87F7-EC1D1186F50E         CLOTHING  BRAND_C   \n",
      "3  D518569B-FF79-494B-B2B6-7E2AF39DB86A         CLOTHING  BRAND_C   \n",
      "4  B6DEAC9D-2B7E-4A51-8273-A6534910B3BC            BOOKS  BRAND_B   \n",
      "5  03F82332-801C-45E2-84BF-AF10A8F60248            BOOKS  BRAND_A   \n",
      "7  F2F4088C-8822-4532-8B4D-AE4ED9FF2E1C         CLOTHING  BRAND_A   \n",
      "\n",
      "  Purchase_Amount Average_Spending_Per_Purchase Purchase_Frequency_Per_Month  \\\n",
      "0             193                            59                            2   \n",
      "3             262                            97                            3   \n",
      "4             429                            85                            7   \n",
      "5              57                            21                            2   \n",
      "7             390                            42                            9   \n",
      "\n",
      "  Brand_Affinity_Score Product_Category_Preferences Month  Year  Season  \n",
      "0                    2                          LOW    01  2010  WINTER  \n",
      "3                    4                          LOW    09  2012    FALL  \n",
      "4                    2                         HIGH    01  2010  SUMMER  \n",
      "5                    6                         HIGH    08  1989  SPRING  \n",
      "7                    2                          LOW    04  1976  WINTER  \n"
     ]
    }
   ],
   "source": [
    "hidden_rows_mask = df.apply(lambda row: row.astype(str).str.contains('HIDDEN')).any(axis=1)\n",
    "\n",
    "# Filter out the rows containing 'HIDDEN' and keep the rest\n",
    "df = df[~hidden_rows_mask]\n",
    "\n",
    "# Display the DataFrame after dropping rows containing 'HIDDEN'\n",
    "print(df.head())\n",
    "df.to_csv(\"Example_file.csv\", sep=',')"
   ]
  }
 ],
 "metadata": {
  "kernelspec": {
   "display_name": "Python 3 (ipykernel)",
   "language": "python",
   "name": "python3"
  },
  "language_info": {
   "codemirror_mode": {
    "name": "ipython",
    "version": 3
   },
   "file_extension": ".py",
   "mimetype": "text/x-python",
   "name": "python",
   "nbconvert_exporter": "python",
   "pygments_lexer": "ipython3",
   "version": "3.9.6"
  }
 },
 "nbformat": 4,
 "nbformat_minor": 5
}
